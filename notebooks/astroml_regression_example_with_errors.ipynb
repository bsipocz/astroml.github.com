{
 "cells": [
  {
   "cell_type": "markdown",
   "metadata": {},
   "source": [
    "# Measurement errors in both dependent and independent variables\n",
    "\n",
    "Use simulation data from [Kelly 2007](https://iopscience.iop.org/article/10.1086/519947/pdf) where there is measurement error on the observed values $x_i$ and $y_i$ as well as intrinsic scatter in the regression relationship: $$ \\eta_i = \\alpha + \\beta \\xi_i + \\epsilon_i $$ and $$ x_i = \\xi_i + \\epsilon_{x,i}$$ $$y_i = \\eta_i + \\epsilon_{y,i}$$\n"
   ]
  },
  {
   "cell_type": "code",
   "execution_count": null,
   "metadata": {},
   "outputs": [],
   "source": [
    "from astroML.datasets import simulation_kelly\n",
    "\n",
    "ksi, eta, xi, yi, xi_error, yi_error, alpha_in, beta_in = simulation_kelly(size=100, scalex=0.2, scaley=0.2,\n",
    "                                                                           alpha=2, beta=1,\n",
    "                                                                           multidim=1)"
   ]
  },
  {
   "cell_type": "markdown",
   "metadata": {},
   "source": [
    "### LinearRegressionwithErrors will be part of the next astroML release, v1.0\n"
   ]
  },
  {
   "cell_type": "code",
   "execution_count": null,
   "metadata": {},
   "outputs": [],
   "source": [
    "from astroML.linear_model import LinearRegressionwithErrors, LinearRegression"
   ]
  },
  {
   "cell_type": "code",
   "execution_count": null,
   "metadata": {
    "scrolled": true
   },
   "outputs": [],
   "source": [
    "linreg_xy_err = LinearRegressionwithErrors()\n",
    "linreg_xy_err.fit(xi, yi, yi_error, xi_error)"
   ]
  },
  {
   "cell_type": "markdown",
   "metadata": {},
   "source": [
    "## Some plotting functions we use below\n",
    "\n"
   ]
  },
  {
   "cell_type": "code",
   "execution_count": null,
   "metadata": {},
   "outputs": [],
   "source": [
    "%matplotlib inline\n",
    "\n",
    "import numpy as np\n",
    "from matplotlib import pyplot as plt"
   ]
  },
  {
   "cell_type": "code",
   "execution_count": null,
   "metadata": {},
   "outputs": [],
   "source": [
    "def plot_figure(ksi, eta, x, y, sigma_x, sigma_y, add_regression_lines=False,\n",
    "                alpha_in=1, beta_in=0.5):\n",
    "\n",
    "    figure = plt.figure(figsize=(15, 6))\n",
    "\n",
    "    ax = figure.add_subplot(121)\n",
    "    ax.scatter(x, y, alpha=0.5)\n",
    "    ax.errorbar(x, y, xerr=sigma_x, yerr=sigma_y, alpha=0.3, ls='')\n",
    "    ax.set_xlabel('x')\n",
    "    ax.set_ylabel('y')\n",
    "\n",
    "    # True regression line\n",
    "    x0 = np.linspace(-10, 10, 40)\n",
    "    y0 = alpha_in + x0 * beta_in\n",
    "\n",
    "    ax.plot(x0, y0, color='black', label='True')\n",
    "    ax.set_xlim(-12, 12)\n",
    "    ax.set_ylim(-5, 7)\n",
    "\n",
    "    ax.legend()\n",
    "    \n",
    "    \n",
    "def plot_trace(fitted, observed, ax=None, chains=None, multidim_ind=None):\n",
    "\n",
    "    traces = [fitted.trace, ]\n",
    "    xi, yi, sigx, sigy = observed\n",
    "\n",
    "    if multidim_ind is not None:\n",
    "        xi = xi[multidim_ind]\n",
    "\n",
    "    x = np.linspace(np.min(xi)-0.5, np.max(xi)+0.5, 50)\n",
    "\n",
    "    for i, trace in enumerate(traces):\n",
    "        if 'theta' in trace.varnames and 'slope' not in trace.varnames:\n",
    "            trace.add_values({'slope': np.tan(trace['theta'])})\n",
    "\n",
    "        if multidim_ind is not None:\n",
    "            trace_slope = trace['slope'][:, multidim_ind]\n",
    "        else:\n",
    "            trace_slope = trace['slope'][:, 0]\n",
    "\n",
    "        if chains is not None:\n",
    "            for chain in range(100, len(trace) * trace.nchains, chains):\n",
    "                y = trace['inter'][chain] + trace_slope[chain] * x\n",
    "                ax.plot(x, y, alpha=0.03, c='red')\n",
    "\n",
    "        # plot the best-fit line only\n",
    "        H2D, bins1, bins2 = np.histogram2d(trace_slope,\n",
    "                                           trace['inter'], bins=50)\n",
    "\n",
    "        w = np.where(H2D == H2D.max())\n",
    "\n",
    "        # choose the maximum posterior slope and intercept\n",
    "        slope_best = bins1[w[0][0]]\n",
    "        intercept_best = bins2[w[1][0]]\n",
    "\n",
    "        print(\"beta:\", slope_best, \"alpha:\", intercept_best)\n",
    "        y = intercept_best + slope_best * x\n",
    "        \n",
    "        #y_pre = fitted.predict(x[:, None])\n",
    "        ax.plot(x, y, ':', label='fitted')\n",
    "        \n",
    "        ax.legend()\n",
    "        break\n",
    "        "
   ]
  },
  {
   "cell_type": "code",
   "execution_count": null,
   "metadata": {},
   "outputs": [],
   "source": [
    "from scipy import optimize\n",
    "from astroML.linear_model import TLS_logL\n",
    "\n",
    "\n",
    "# TLS:\n",
    "def get_m_b(beta):\n",
    "    b = np.dot(beta, beta) / beta[1]\n",
    "    m = -beta[0] / beta[1]\n",
    "    return m, b\n",
    "\n",
    "\n",
    "def plot_figure(ksi, eta, x, y, sigma_x, sigma_y, add_regression_lines=False,\n",
    "                alpha_in=1, beta_in=0.5, basis='linear'):\n",
    "    # reproduce parts of figure 3.\n",
    "\n",
    "    # True regression line\n",
    "    x0 = np.arange(np.min(ksi) - 0.5, np.max(ksi) + 0.5)\n",
    "    \n",
    "    # TODO: do properly with .predict()        \n",
    "    if basis == 'linear':\n",
    "        y0 = alpha_in + x0 * beta_in\n",
    "    elif basis == 'poly':\n",
    "        y0 = alpha_in + beta_in[0] * x0 + beta_in[1] * x0 * x0 + beta_in[2] * x0 * x0 * x0\n",
    "           \n",
    "    figure = plt.figure(figsize=(15, 6))\n",
    "    #ax = figure.add_subplot(121)\n",
    "    #ax.scatter(ksi, eta)\n",
    "    #ax.set_xlabel(r'$\\xi$')\n",
    "    #ax.set_ylabel(r'$\\eta$')\n",
    "\n",
    "    #ax.plot(x0, y0, color='orange')\n",
    "    #ax.set_xlim(-4, 4)\n",
    "    #ax.set_ylim(-3, 3)\n",
    "\n",
    "    ax = figure.add_subplot(122)\n",
    "    ax.scatter(x, y, alpha=0.5)\n",
    "    ax.errorbar(x, y, xerr=sigma_x, yerr=sigma_y, alpha=0.3, ls='')\n",
    "    ax.set_xlabel('x')\n",
    "    ax.set_ylabel('y')\n",
    "        \n",
    "    # Redo truth for second panel\n",
    "    x0 = np.linspace(-10, 10, 40)\n",
    "    # TODO: do properly with .predict()        \n",
    "    if basis == 'linear':\n",
    "        y0 = alpha_in + x0 * beta_in\n",
    "    elif basis == 'poly':\n",
    "        y0 = alpha_in + beta_in[0] * x0 + beta_in[1] * x0 * x0 + beta_in[2] * x0 * x0 * x0\n",
    "\n",
    "    ax.plot(x0, y0, color='black', label='True')\n",
    "    ax.set_xlim(-12, 12)\n",
    "    ax.set_ylim(-5, 7)\n",
    "    #ax.plot([-4, 4, 4, -4, -4], [-3, -3, 3, 3, -3], color='k', alpha=0.5)\n",
    "\n",
    "    if add_regression_lines:\n",
    "        x0 = np.arange(-10, 10)\n",
    "        y0 = np.arange(-4, 6)\n",
    "        for label, data, *target in [['no err', x, y, 1],\n",
    "                                     ['y err', x, y, sigma_y],\n",
    "                                     ['x err', y, x, sigma_x]]:\n",
    "            linreg = LinearRegression()\n",
    "            linreg.fit(data[:, None], *target)\n",
    "            if label == 'x err':\n",
    "                x_fit = linreg.predict(y0[:, None])\n",
    "                ax.plot(x_fit, y0, label=label)\n",
    "            else:\n",
    "                y_fit = linreg.predict(x0[:, None])\n",
    "                ax.plot(x0, y_fit, label=label)\n",
    "\n",
    "        # TLS\n",
    "        X = np.vstack((x, y)).T\n",
    "        dX = np.zeros((len(x), 2, 2))\n",
    "        dX[:, 0, 0] = sigma_x\n",
    "        dX[:, 1, 1] = sigma_y\n",
    "\n",
    "        min_func = lambda beta: -TLS_logL(beta, X, dX)\n",
    "        beta_fit = optimize.fmin(min_func, x0=[-1, 1])\n",
    "        m_fit, b_fit = get_m_b(beta_fit)\n",
    "        x_fit = np.linspace(-10, 10, 20)\n",
    "\n",
    "        ax.plot(x_fit, m_fit * x_fit + b_fit, label='TLS')\n",
    "\n",
    "    ax.legend()\n",
    "    #plt.show()"
   ]
  },
  {
   "cell_type": "code",
   "execution_count": null,
   "metadata": {},
   "outputs": [],
   "source": [
    "plot_figure(ksi, eta, xi[0], yi, xi_error[0], yi_error, add_regression_lines=True, alpha_in=alpha_in, beta_in=beta_in)\n",
    "plot_trace(linreg_xy_err, (xi, yi, xi_error, yi_error), ax=plt.gca(), chains=50)\n"
   ]
  },
  {
   "cell_type": "markdown",
   "metadata": {},
   "source": [
    "## Multivariate regression\n",
    "For multivariate data (where we fit a hyperplane rather than a straight line) we simply extend the description of the regression function to multiple dimensions."
   ]
  },
  {
   "cell_type": "code",
   "execution_count": null,
   "metadata": {},
   "outputs": [],
   "source": [
    "ksi3, eta3, xi3, yi3, xi_error3, yi_error3, alpha_in3, beta_in3 = simulation_kelly(size=100, scalex=0.2, scaley=0.2,\n",
    "                                                                                   alpha=2, beta=np.array((0.5, 1, 1)),\n",
    "                                                                                   multidim=3)"
   ]
  },
  {
   "cell_type": "code",
   "execution_count": null,
   "metadata": {},
   "outputs": [],
   "source": [
    "linreg_xy_err3 = LinearRegressionwithErrors()\n",
    "linreg_xy_err3.fit(xi3, yi3, yi_error3, xi_error3)"
   ]
  },
  {
   "cell_type": "code",
   "execution_count": null,
   "metadata": {},
   "outputs": [],
   "source": [
    "import seaborn as sns\n",
    "\n",
    "for i in range(linreg_xy_err3.trace['slope'].shape[1]):\n",
    "\n",
    "    joinpl = sns.jointplot(linreg_xy_err3.trace['slope'][:, i], linreg_xy_err3.trace['inter'], kind='kde')\n",
    "    joinpl.ax_joint.plot(beta_in3[i], alpha_in3, 'x', color='red', ms=10)\n",
    "    joinpl.ax_marg_y.plot([0, 2], [alpha_in3, alpha_in3], color='red')\n",
    "    joinpl.ax_marg_x.plot([beta_in3[i], beta_in3[i]], [0, 2], color='red')\n",
    "    \n",
    "    plot_figure(ksi3[i], eta3, xi3[i], yi3, xi_error3[i], yi_error3, add_regression_lines=False, alpha_in=alpha_in3, beta_in=beta_in3[i])\n",
    "    plot_trace(linreg_xy_err3, (xi3, yi3, xi_error3, yi_error3), ax=plt.gca(), chains=50, multidim_ind=i)\n"
   ]
  },
  {
   "cell_type": "markdown",
   "metadata": {},
   "source": [
    "## Sandbox"
   ]
  },
  {
   "cell_type": "code",
   "execution_count": null,
   "metadata": {},
   "outputs": [],
   "source": []
  }
 ],
 "metadata": {
  "kernelspec": {
   "display_name": "Python 3",
   "language": "python",
   "name": "python3"
  },
  "language_info": {
   "codemirror_mode": {
    "name": "ipython",
    "version": 3
   },
   "file_extension": ".py",
   "mimetype": "text/x-python",
   "name": "python",
   "nbconvert_exporter": "python",
   "pygments_lexer": "ipython3",
   "version": "3.7.5"
  }
 },
 "nbformat": 4,
 "nbformat_minor": 2
}
