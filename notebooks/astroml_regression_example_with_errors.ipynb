{
 "cells": [
  {
   "cell_type": "markdown",
   "metadata": {},
   "source": [
    "# Measurement errors in both dependent and independent variables\n",
    "\n",
    "Use simulation data from [Kelly 2007](https://iopscience.iop.org/article/10.1086/519947/pdf) where there is measurement error on the observed values $x_i$ and $y_i$ as well as intrinsic scatter in the regression relationship: $$ \\eta_i = \\alpha + \\beta \\xi_i + \\epsilon_i $$ and $$ x_i = \\xi_i + \\epsilon_{x,i}$$ $$y_i = \\eta_i + \\epsilon_{y,i}$$\n"
   ]
  },
  {
   "cell_type": "code",
   "execution_count": null,
   "metadata": {},
   "outputs": [],
   "source": [
    "from astroML.datasets import simulation_kelly\n",
    "\n",
    "ksi, eta, xi, yi, xi_error, yi_error, alpha_in, beta_in = simulation_kelly(size=100, scalex=0.2, scaley=0.2,\n",
    "                                                                           alpha=2, beta=1,\n",
    "                                                                           multidim=1)"
   ]
  },
  {
   "cell_type": "markdown",
   "metadata": {},
   "source": [
    "### LinearRegressionwithErrors will be part of the next astroML release, v1.0\n"
   ]
  },
  {
   "cell_type": "code",
   "execution_count": null,
   "metadata": {},
   "outputs": [],
   "source": [
    "from astroML.linear_model import LinearRegressionwithErrors, LinearRegression"
   ]
  },
  {
   "cell_type": "code",
   "execution_count": null,
   "metadata": {
    "scrolled": true
   },
   "outputs": [],
   "source": [
    "linreg_xy_err = LinearRegressionwithErrors()\n",
    "linreg_xy_err.fit(xi, yi, yi_error, xi_error)"
   ]
  },
  {
   "cell_type": "markdown",
   "metadata": {},
   "source": [
    "## Plot the results\n",
    "\n"
   ]
  },
  {
   "cell_type": "code",
   "execution_count": null,
   "metadata": {},
   "outputs": [],
   "source": [
    "%matplotlib inline\n",
    "\n",
    "import numpy as np\n",
    "from matplotlib import pyplot as plt\n",
    "\n",
    "from astroML.plotting import plot_regressions, plot_regression_from_trace"
   ]
  },
  {
   "cell_type": "code",
   "execution_count": null,
   "metadata": {},
   "outputs": [],
   "source": [
    "plot_regressions(ksi, eta, xi[0], yi, xi_error[0], yi_error, add_regression_lines=True, alpha_in=alpha_in, beta_in=beta_in)\n",
    "plot_regression_from_trace(linreg_xy_err, (xi, yi, xi_error, yi_error), ax=plt.gca(), chains=50)\n"
   ]
  },
  {
   "cell_type": "markdown",
   "metadata": {},
   "source": [
    "## Multivariate regression\n",
    "For multivariate data (where we fit a hyperplane rather than a straight line) we simply extend the description of the regression function to multiple dimensions."
   ]
  },
  {
   "cell_type": "code",
   "execution_count": null,
   "metadata": {},
   "outputs": [],
   "source": [
    "ksi3, eta3, xi3, yi3, xi_error3, yi_error3, alpha_in3, beta_in3 = simulation_kelly(size=100, scalex=0.2, scaley=0.2,\n",
    "                                                                                   alpha=2, beta=np.array((0.5, 1, 1)),\n",
    "                                                                                   multidim=3)"
   ]
  },
  {
   "cell_type": "code",
   "execution_count": null,
   "metadata": {},
   "outputs": [],
   "source": [
    "linreg_xy_err3 = LinearRegressionwithErrors()\n",
    "linreg_xy_err3.fit(xi3, yi3, yi_error3, xi_error3)"
   ]
  },
  {
   "cell_type": "code",
   "execution_count": null,
   "metadata": {},
   "outputs": [],
   "source": [
    "import seaborn as sns\n",
    "\n",
    "for i in range(linreg_xy_err3.trace['slope'].shape[1]):\n",
    "\n",
    "    joinpl = sns.jointplot(linreg_xy_err3.trace['slope'][:, i], linreg_xy_err3.trace['inter'], kind='kde')\n",
    "    joinpl.ax_joint.plot(beta_in3[i], alpha_in3, 'x', color='red', ms=10)\n",
    "    joinpl.ax_marg_y.plot([0, 2], [alpha_in3, alpha_in3], color='red')\n",
    "    joinpl.ax_marg_x.plot([beta_in3[i], beta_in3[i]], [0, 2], color='red')\n",
    "    \n",
    "    plot_regressions(ksi3[i], eta3, xi3[i], yi3, xi_error3[i], yi_error3, add_regression_lines=False, alpha_in=alpha_in3, beta_in=beta_in3[i])\n",
    "    plot_regression_from_trace(linreg_xy_err3, (xi3, yi3, xi_error3, yi_error3), ax=plt.gca(), chains=50, multidim_ind=i)\n"
   ]
  },
  {
   "cell_type": "markdown",
   "metadata": {},
   "source": [
    "## Sandbox"
   ]
  },
  {
   "cell_type": "code",
   "execution_count": null,
   "metadata": {},
   "outputs": [],
   "source": []
  }
 ],
 "metadata": {
  "kernelspec": {
   "display_name": "Python 3",
   "language": "python",
   "name": "python3"
  },
  "language_info": {
   "codemirror_mode": {
    "name": "ipython",
    "version": 3
   },
   "file_extension": ".py",
   "mimetype": "text/x-python",
   "name": "python",
   "nbconvert_exporter": "python",
   "pygments_lexer": "ipython3",
   "version": "3.7.5"
  }
 },
 "nbformat": 4,
 "nbformat_minor": 2
}
